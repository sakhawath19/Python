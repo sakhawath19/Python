{
 "cells": [
  {
   "cell_type": "code",
   "execution_count": 229,
   "metadata": {},
   "outputs": [],
   "source": [
    "import numpy as np\n",
    "import pandas as pd \n",
    "import matplotlib.pyplot as plt \n",
    "import seaborn as sns \n",
    "import itertools \n",
    "%matplotlib inline \n",
    "\n",
    "from sklearn import preprocessing \n",
    "from sklearn.preprocessing import StandardScaler, PolynomialFeatures \n",
    "from sklearn.model_selection import train_test_split, KFold, cross_val_score\n",
    "\n",
    "from sklearn.linear_model import LinearRegression, Ridge, Lasso \n",
    "\n",
    "from sklearn.neighbors import KNeighborsRegressor \n",
    "from sklearn.tree import DecisionTreeRegressor\n",
    "\n",
    "from sklearn.ensemble import RandomForestRegressor, GradientBoostingRegressor, AdaBoostRegressor\n",
    "from sklearn.ensemble import BaggingRegressor, VotingRegressor\n",
    "# Support vector regressor\n",
    "from sklearn.svm import SVR \n",
    "from xgboost.sklearn import XGBRegressor\n",
    "\n",
    "from sklearn import metrics \n",
    "from sklearn.metrics import mean_squared_error, mean_absolute_error, r2_score\n",
    "from sklearn.cluster import KMeans\n",
    "from sklearn.utils import resample\n",
    "\n",
    "from scipy import stats\n",
    "from scipy.stats import zscore"
   ]
  },
  {
   "cell_type": "code",
   "execution_count": 230,
   "metadata": {},
   "outputs": [],
   "source": [
    "from pyforest import*\n",
    "#lazy_imports()"
   ]
  },
  {
   "cell_type": "code",
   "execution_count": 231,
   "metadata": {},
   "outputs": [
    {
     "data": {
      "application/javascript": [
       "\n",
       "        if (window._pyforest_update_imports_cell) { window._pyforest_update_imports_cell('import pandas as pd'); }\n",
       "    "
      ],
      "text/plain": [
       "<IPython.core.display.Javascript object>"
      ]
     },
     "metadata": {},
     "output_type": "display_data"
    }
   ],
   "source": [
    "df = pd.read_csv('./data/compresive_strength_concrete.csv')"
   ]
  },
  {
   "cell_type": "code",
   "execution_count": 232,
   "metadata": {},
   "outputs": [
    {
     "data": {
      "text/html": [
       "<div>\n",
       "<style scoped>\n",
       "    .dataframe tbody tr th:only-of-type {\n",
       "        vertical-align: middle;\n",
       "    }\n",
       "\n",
       "    .dataframe tbody tr th {\n",
       "        vertical-align: top;\n",
       "    }\n",
       "\n",
       "    .dataframe thead th {\n",
       "        text-align: right;\n",
       "    }\n",
       "</style>\n",
       "<table border=\"1\" class=\"dataframe\">\n",
       "  <thead>\n",
       "    <tr style=\"text-align: right;\">\n",
       "      <th></th>\n",
       "      <th>Cement (component 1)(kg in a m^3 mixture)</th>\n",
       "      <th>Blast Furnace Slag (component 2)(kg in a m^3 mixture)</th>\n",
       "      <th>Fly Ash (component 3)(kg in a m^3 mixture)</th>\n",
       "      <th>Water  (component 4)(kg in a m^3 mixture)</th>\n",
       "      <th>Superplasticizer (component 5)(kg in a m^3 mixture)</th>\n",
       "      <th>Coarse Aggregate  (component 6)(kg in a m^3 mixture)</th>\n",
       "      <th>Fine Aggregate (component 7)(kg in a m^3 mixture)</th>\n",
       "      <th>Age (day)</th>\n",
       "      <th>Concrete compressive strength(MPa, megapascals)</th>\n",
       "    </tr>\n",
       "  </thead>\n",
       "  <tbody>\n",
       "    <tr>\n",
       "      <th>0</th>\n",
       "      <td>540.0</td>\n",
       "      <td>0.0</td>\n",
       "      <td>0.0</td>\n",
       "      <td>162.0</td>\n",
       "      <td>2.5</td>\n",
       "      <td>1040.0</td>\n",
       "      <td>676.0</td>\n",
       "      <td>28</td>\n",
       "      <td>79.99</td>\n",
       "    </tr>\n",
       "    <tr>\n",
       "      <th>1</th>\n",
       "      <td>540.0</td>\n",
       "      <td>0.0</td>\n",
       "      <td>0.0</td>\n",
       "      <td>162.0</td>\n",
       "      <td>2.5</td>\n",
       "      <td>1055.0</td>\n",
       "      <td>676.0</td>\n",
       "      <td>28</td>\n",
       "      <td>61.89</td>\n",
       "    </tr>\n",
       "    <tr>\n",
       "      <th>2</th>\n",
       "      <td>332.5</td>\n",
       "      <td>142.5</td>\n",
       "      <td>0.0</td>\n",
       "      <td>228.0</td>\n",
       "      <td>0.0</td>\n",
       "      <td>932.0</td>\n",
       "      <td>594.0</td>\n",
       "      <td>270</td>\n",
       "      <td>40.27</td>\n",
       "    </tr>\n",
       "    <tr>\n",
       "      <th>3</th>\n",
       "      <td>332.5</td>\n",
       "      <td>142.5</td>\n",
       "      <td>0.0</td>\n",
       "      <td>228.0</td>\n",
       "      <td>0.0</td>\n",
       "      <td>932.0</td>\n",
       "      <td>594.0</td>\n",
       "      <td>365</td>\n",
       "      <td>41.05</td>\n",
       "    </tr>\n",
       "    <tr>\n",
       "      <th>4</th>\n",
       "      <td>198.6</td>\n",
       "      <td>132.4</td>\n",
       "      <td>0.0</td>\n",
       "      <td>192.0</td>\n",
       "      <td>0.0</td>\n",
       "      <td>978.4</td>\n",
       "      <td>825.5</td>\n",
       "      <td>360</td>\n",
       "      <td>44.30</td>\n",
       "    </tr>\n",
       "  </tbody>\n",
       "</table>\n",
       "</div>"
      ],
      "text/plain": [
       "   Cement (component 1)(kg in a m^3 mixture)  ...  Concrete compressive strength(MPa, megapascals) \n",
       "0                                      540.0  ...                                             79.99\n",
       "1                                      540.0  ...                                             61.89\n",
       "2                                      332.5  ...                                             40.27\n",
       "3                                      332.5  ...                                             41.05\n",
       "4                                      198.6  ...                                             44.30\n",
       "\n",
       "[5 rows x 9 columns]"
      ]
     },
     "execution_count": 232,
     "metadata": {},
     "output_type": "execute_result"
    }
   ],
   "source": [
    "df.head()"
   ]
  },
  {
   "cell_type": "code",
   "execution_count": 233,
   "metadata": {},
   "outputs": [
    {
     "data": {
      "text/plain": [
       "Cement (component 1)(kg in a m^3 mixture)                float64\n",
       "Blast Furnace Slag (component 2)(kg in a m^3 mixture)    float64\n",
       "Fly Ash (component 3)(kg in a m^3 mixture)               float64\n",
       "Water  (component 4)(kg in a m^3 mixture)                float64\n",
       "Superplasticizer (component 5)(kg in a m^3 mixture)      float64\n",
       "Coarse Aggregate  (component 6)(kg in a m^3 mixture)     float64\n",
       "Fine Aggregate (component 7)(kg in a m^3 mixture)        float64\n",
       "Age (day)                                                  int64\n",
       "Concrete compressive strength(MPa, megapascals)          float64\n",
       "dtype: object"
      ]
     },
     "execution_count": 233,
     "metadata": {},
     "output_type": "execute_result"
    }
   ],
   "source": [
    "df.dtypes"
   ]
  },
  {
   "cell_type": "code",
   "execution_count": null,
   "metadata": {},
   "outputs": [],
   "source": [
    "#'Concrete compressive strength(MPa, megapascals) ', there is a unnecessary space in this column name\n",
    "# This has been considered during renaming it\n",
    "df = df.rename({'Cement (component 1)(kg in a m^3 mixture)':'cement', \n",
    "                   'Blast Furnace Slag (component 2)(kg in a m^3 mixture)':'slag',\n",
    "                   'Fly Ash (component 3)(kg in a m^3 mixture)':'ash',\n",
    "                   'Water  (component 4)(kg in a m^3 mixture)':'water',\n",
    "                   'Superplasticizer (component 5)(kg in a m^3 mixture)':'plasticizer',\n",
    "                   'Coarse Aggregate  (component 6)(kg in a m^3 mixture)':'coarse',\n",
    "                   'Fine Aggregate (component 7)(kg in a m^3 mixture)':'fineAggregate',\n",
    "                   'Age (day)':'age', \n",
    "                   'Concrete compressive strength(MPa, megapascals) ':'strength'},\n",
    "                   axis=1);"
   ]
  },
  {
   "cell_type": "code",
   "execution_count": null,
   "metadata": {},
   "outputs": [],
   "source": [
    "df"
   ]
  },
  {
   "cell_type": "code",
   "execution_count": null,
   "metadata": {},
   "outputs": [],
   "source": [
    "df.shape"
   ]
  },
  {
   "cell_type": "code",
   "execution_count": null,
   "metadata": {},
   "outputs": [],
   "source": [
    "df.isna().sum()"
   ]
  },
  {
   "cell_type": "code",
   "execution_count": null,
   "metadata": {},
   "outputs": [],
   "source": [
    "df.isnull().sum()"
   ]
  },
  {
   "cell_type": "code",
   "execution_count": null,
   "metadata": {},
   "outputs": [],
   "source": [
    "df.describe().T"
   ]
  },
  {
   "cell_type": "markdown",
   "metadata": {},
   "source": [
    "\n",
    "## Exploratory Analysis"
   ]
  },
  {
   "cell_type": "code",
   "execution_count": null,
   "metadata": {},
   "outputs": [],
   "source": [
    "q1 = df['cement'].quantile(q=0.25)\n",
    "q2 = df['cement'].quantile(q=0.5)\n",
    "q3 = df['cement'].quantile(q=0.75)\n",
    "print('First quantile is(Q1): {}'.format(q1))\n",
    "print('Second quantile is(Q2): {}'.format(q2))\n",
    "print('Third quantile is(Q3): {}'.format(q3))"
   ]
  },
  {
   "cell_type": "code",
   "execution_count": null,
   "metadata": {},
   "outputs": [],
   "source": [
    "stats.iqr(df['cement']) # Interquartile range(Q3-Q1)"
   ]
  },
  {
   "cell_type": "code",
   "execution_count": null,
   "metadata": {},
   "outputs": [],
   "source": [
    "u_outliers_limit = q3 + 1.5 * stats.iqr(df['cement'])\n",
    "l_outliers_limit = q1 - 1.5 * stats.iqr(df['cement'])\n",
    "\n",
    "#df[df['cement'] > u_outliers_limit]['cement'].count()  #counting number of outliers\n",
    "#df[df['cement'] < l_outliers_limit]['cement'].count()\n",
    "\n",
    "print((df[df['cement'] > u_outliers_limit]['cement'].count() * 100)/df.shape[0], '%') #printed percentage of outliers\n",
    "print((df[df['cement'] < l_outliers_limit]['cement'].count() * 100)/df.shape[0], '%')"
   ]
  },
  {
   "cell_type": "code",
   "execution_count": null,
   "metadata": {},
   "outputs": [],
   "source": [
    "sns.boxplot(x='cement', data=df, orient='h')"
   ]
  },
  {
   "cell_type": "code",
   "execution_count": null,
   "metadata": {},
   "outputs": [],
   "source": [
    "plt.figure(figsize=(10,7))\n",
    "plt.title('ash')\n",
    "sns.distplot(df['ash'])"
   ]
  },
  {
   "cell_type": "code",
   "execution_count": null,
   "metadata": {},
   "outputs": [],
   "source": [
    "sns.boxplot(df['ash'], orient='h') "
   ]
  },
  {
   "cell_type": "code",
   "execution_count": null,
   "metadata": {},
   "outputs": [],
   "source": [
    "df.dtypes"
   ]
  },
  {
   "cell_type": "code",
   "execution_count": null,
   "metadata": {},
   "outputs": [],
   "source": [
    "fig1, ax1 = plt.subplots(3, 3, figsize=(16,16))\n",
    "sns.distplot(df['cement'], ax=ax1[0][0])\n",
    "sns.distplot(df['slag'], ax=ax1[0][1])\n",
    "sns.distplot(df['ash'], ax=ax1[0][2])\n",
    "sns.distplot(df['water'], ax=ax1[1][0])\n",
    "sns.distplot(df['plasticizer'], ax=ax1[1][1])\n",
    "sns.distplot(df['coarse'], ax=ax1[1][2])\n",
    "sns.distplot(df['fineAggregate'], ax=ax1[2][0])\n",
    "sns.distplot(df['age'], ax=ax1[2][1])\n",
    "sns.distplot(df['strength'], ax=ax1[2][2])"
   ]
  },
  {
   "cell_type": "code",
   "execution_count": null,
   "metadata": {},
   "outputs": [],
   "source": [
    "sns.pairplot(df, diag_kind='kde');"
   ]
  },
  {
   "cell_type": "code",
   "execution_count": null,
   "metadata": {},
   "outputs": [],
   "source": [
    "plt.figure(figsize=(10,7))\n",
    "sns.heatmap(df.corr(), vmax=1, square=True, annot=True, cmap='viridis')\n",
    "plt.title('Correlation between different attributes')\n",
    "plt.show()"
   ]
  },
  {
   "cell_type": "code",
   "execution_count": null,
   "metadata": {},
   "outputs": [],
   "source": [
    "plt.figure(figsize=(10,7))\n",
    "df.boxplot()"
   ]
  },
  {
   "cell_type": "code",
   "execution_count": null,
   "metadata": {},
   "outputs": [],
   "source": [
    "# Calculate outliers for each column\n",
    "# Target column is excluded by \"len(df.columns) - 1\"\n",
    "# outliers = ((x - x.mean)/x.std).abs() > 3     # value outside 3 standard deviation \n",
    "\n",
    "for col in df.columns[:-1]:\n",
    "    outliers_index = ((df[col] - df[col].mean())/df[col].std()).abs() > 3;\n",
    "    \n",
    "    outliers_no = df.loc[outliers_index, col].count() \n",
    "    \n",
    "    print('Outliers in {}: {}'.format(col, outliers_no))\n"
   ]
  },
  {
   "cell_type": "code",
   "execution_count": null,
   "metadata": {},
   "outputs": [],
   "source": [
    "# Replacing outliers from every column\n",
    "\n",
    "for col in df.columns[:-1]:\n",
    "    q1 = df[col].quantile(q=0.25)\n",
    "    q3 = df[col].quantile(q=0.75)\n",
    "    \n",
    "    iqr = q3 - q1\n",
    "    \n",
    "    lower_limit = q1 - 1.5 * iqr;\n",
    "    upper_limit = q3 + 1.5 * iqr;\n",
    "    \n",
    "    df.loc[(df[col] < lower_limit) | (df[col] > upper_limit), col] = df[col].median()  "
   ]
  },
  {
   "cell_type": "code",
   "execution_count": null,
   "metadata": {},
   "outputs": [],
   "source": [
    "plt.figure(figsize=(10,7))\n",
    "df.boxplot()"
   ]
  },
  {
   "cell_type": "code",
   "execution_count": null,
   "metadata": {},
   "outputs": [],
   "source": [
    "X = df.drop('strength', axis=1)\n",
    "y = df['strength']\n",
    "\n",
    "X_train, X_test, y_train, y_test = train_test_split(X, y, test_size=0.3, random_state=7)"
   ]
  },
  {
   "cell_type": "code",
   "execution_count": null,
   "metadata": {},
   "outputs": [],
   "source": [
    "X_train = X_train.apply(zscore)\n",
    "X_test = X_test.apply(zscore)\n",
    "X = X.apply(zscore)\n",
    "\n",
    "'''\n",
    "scaler = StandardScaler()\n",
    "X_train = scaler.fit_transform(X_train)\n",
    "X_test = scaler.fit_transform(X_test)\n",
    "X = scaler.fit_transform(X)\n",
    "'''"
   ]
  },
  {
   "cell_type": "code",
   "execution_count": null,
   "metadata": {},
   "outputs": [],
   "source": [
    "# Test k value for KNeighborsRegressor\n",
    "'''\n",
    "score_diff_k = []\n",
    "r2_scores = []\n",
    "for neighbors in range(1, 20):\n",
    "    model =  KNeighborsRegressor(n_neighbors=neighbors)\n",
    "    model.fit(X_train, y_train)\n",
    "    y_pred = model.predict(X_test)\n",
    "    r2_scr = metrics.r2_score(y_test, y_pred)\n",
    "    r2_scores.append(r2_scr)\n",
    "\n",
    "plt.figure(figsize=(10,7))\n",
    "plt.plot(range(1,20), r2_scores, marker='*')\n",
    "plt.xlabel('No of neighbors')\n",
    "plt.ylabel('Error')\n",
    "'''"
   ]
  },
  {
   "cell_type": "code",
   "execution_count": null,
   "metadata": {},
   "outputs": [],
   "source": []
  },
  {
   "cell_type": "code",
   "execution_count": null,
   "metadata": {},
   "outputs": [],
   "source": [
    "# plt.bar(df.columns ,model.feature_importances_)\n",
    "df.columns"
   ]
  },
  {
   "cell_type": "raw",
   "metadata": {},
   "source": [
    "r2_scores"
   ]
  },
  {
   "cell_type": "code",
   "execution_count": null,
   "metadata": {},
   "outputs": [],
   "source": [
    "models = []\n",
    "models.append(('RanFR', RandomForestRegressor()))\n",
    "models.append(('LinR', LinearRegression()))\n",
    "models.append(('GrdBR', GradientBoostingRegressor()))\n",
    "models.append(('AdaBR', AdaBoostRegressor()))\n",
    "models.append(('KNeiR', KNeighborsRegressor(n_neighbors=4)))\n",
    "models.append(('BagR', BaggingRegressor()))\n",
    "models.append(('SVR', SVR(kernel='linear')))\n",
    "models.append(('XGBR', XGBRegressor()))\n",
    "models.append(('DecTR', DecisionTreeRegressor()))"
   ]
  },
  {
   "cell_type": "code",
   "execution_count": null,
   "metadata": {},
   "outputs": [],
   "source": [
    "train_scores = []\n",
    "test_scores = []\n",
    "r2_scores = []\n",
    "mse_scores = []\n",
    "cv_scores = []\n",
    "model_names = []\n",
    "\n",
    "for name, model in models:\n",
    "    model.fit(X_train, y_train)\n",
    "    \n",
    "    train_scr = model.score(X_train, y_train)\n",
    "    train_scores.append(train_scr)\n",
    "    \n",
    "    y_pred = model.predict(X_test)\n",
    "    r2_scr = metrics.r2_score(y_test, y_pred)\n",
    "    r2_scores.append(r2_scr)\n",
    "    \n",
    "    mse_scr = metrics.mean_squared_error(y_test, y_pred)\n",
    "    mse_scores.append(mse_scr)\n",
    "    \n",
    "    test_scr = model.score(X_test, y_test) \n",
    "    test_scores.append(test_scr)\n",
    "    \n",
    "    kfold = KFold(n_splits=10, shuffle=True, random_state=7)\n",
    "    cv_scr = cross_val_score(model, X, y, cv=kfold)    # It will generate 10 score\n",
    "    cv_scr_mean = np.mean(abs(cv_scr))\n",
    "    cv_scores.append(cv_scr_mean)\n",
    "            \n",
    "    model_names.append(name)\n",
    "    "
   ]
  },
  {
   "cell_type": "code",
   "execution_count": null,
   "metadata": {},
   "outputs": [],
   "source": [
    "pd.DataFrame({'algorithm':model_names, 'train_scr':train_scores, 'test_scr':test_scores,\n",
    "             'r2_scr':r2_scores, 'mse_scr':mse_scores, 'kfold':cv_scores})"
   ]
  },
  {
   "cell_type": "code",
   "execution_count": null,
   "metadata": {},
   "outputs": [],
   "source": [
    "# Understand the different feature's importance \n",
    "'''\n",
    "model = DecisionTreeRegressor()\n",
    "model.fit(X_train, y_train)\n",
    "\n",
    "imp = pd.DataFrame(model.feature_importances_, columns=['importance'], index=X_train.columns)\n",
    "\n",
    "plt.figure(figsize=(7,4))\n",
    "plt.barh(imp.index, imp['importance'])\n",
    "'''"
   ]
  },
  {
   "cell_type": "code",
   "execution_count": null,
   "metadata": {},
   "outputs": [],
   "source": []
  },
  {
   "cell_type": "code",
   "execution_count": null,
   "metadata": {},
   "outputs": [],
   "source": [
    "# Selecting important features\n",
    "df_imp = df.copy()\n",
    "\n",
    "X = df_imp.drop(['ash', 'plasticizer', 'fineAggregate', 'coarse', 'strength'], axis=1)\n",
    "y = df_imp['strength']\n",
    "\n",
    "\n",
    "X_train, X_test, y_train, y_test = train_test_split(X, y, test_size=0.3, random_state=7)\n",
    "\n",
    "X_train = X_train.apply(zscore)\n",
    "X_test = X_test.apply(zscore)\n",
    "X = X.apply(zscore)"
   ]
  },
  {
   "cell_type": "code",
   "execution_count": null,
   "metadata": {},
   "outputs": [],
   "source": [
    "model = DecisionTreeRegressor()\n",
    "model.fit(X_train, y_train)\n",
    "\n",
    "y_pred = model.predict(X_test)\n",
    "\n",
    "train_scr = model.score(X_train, y_train)\n",
    "\n",
    "r2_scr = metrics.r2_score(y_test, y_pred)\n",
    "\n",
    "mse_scr = metrics.mean_squared_error(y_test, y_pred)\n",
    "\n",
    "test_scr = model.score(X_test, y_test) \n"
   ]
  },
  {
   "cell_type": "code",
   "execution_count": null,
   "metadata": {},
   "outputs": [],
   "source": [
    "test_scr"
   ]
  }
 ],
 "metadata": {
  "kernelspec": {
   "display_name": "Python 3",
   "language": "python",
   "name": "python3"
  },
  "language_info": {
   "codemirror_mode": {
    "name": "ipython",
    "version": 3
   },
   "file_extension": ".py",
   "mimetype": "text/x-python",
   "name": "python",
   "nbconvert_exporter": "python",
   "pygments_lexer": "ipython3",
   "version": "3.7.5"
  }
 },
 "nbformat": 4,
 "nbformat_minor": 4
}
